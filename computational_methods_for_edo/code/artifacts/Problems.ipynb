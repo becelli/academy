{
 "cells": [
  {
   "cell_type": "code",
   "execution_count": null,
   "metadata": {},
   "outputs": [],
   "source": [
    "import numpy as np\n",
    "from ODE_FixedStep import FixedStep\n",
    "from ODE_MultipleStep import MultipleStep\n",
    "from numba import njit\n",
    "import plotter\n"
   ]
  },
  {
   "cell_type": "code",
   "execution_count": null,
   "metadata": {},
   "outputs": [],
   "source": [
    "def solver(a, b, n, y0, f, F):\n",
    "    plt = plotter.Plotter2D()\n",
    "    one_step = FixedStep(f, y0, a, b, n)\n",
    "    mult_step = MultipleStep(f, a, b, y0, hmax=2.0, max_it=10000, tol=1e-3)\n",
    "    fixed_step_methods = [\n",
    "        \"Explicit Euler\",\n",
    "        \"Implicit Euler\",\n",
    "        \"Central Difference\",\n",
    "        # \"Improved Euler\",\n",
    "        # \"Modified Euler\",\n",
    "        # \"Trapezoidal\",\n",
    "        # \"Simpson\",\n",
    "        \"Runge-Kutta-3\",\n",
    "        \"Runge-Kutta-4\",\n",
    "        # \"Runge-Kutta-5\",\n",
    "    ]\n",
    "    # abbr = [\"EE\", \"Impl. E\", \"IE\",\n",
    "    # #\"CE\",\n",
    "    # \"ME\", \"TZ\", \"S\", \"RK3\", \"RK4\", \"RK5\"]\n",
    "    abbr = [\"Expl. Euler\", \"Impl. Euler\", \"Central Diff.\", \"RK-3\", \"RK-4\"]\n",
    "    results = []\n",
    "    for method in fixed_step_methods:\n",
    "        x, y = one_step.apply(method)\n",
    "        label = abbr[fixed_step_methods.index(method)]\n",
    "        results.append((x, y, label))\n",
    "\n",
    "    # (\n",
    "    #     x,\n",
    "    #     y,\n",
    "    # ) = mult_step.apply(\"Dormand-Prince\")\n",
    "    # results.append((x, y, \"DP\"))\n",
    "\n",
    "    plt.plot_approximations(results, F)\n"
   ]
  },
  {
   "cell_type": "code",
   "execution_count": null,
   "metadata": {},
   "outputs": [],
   "source": [
    "k = -2.867e-5  # Coeficiente de decaimento\n",
    "\n",
    "\n",
    "@njit\n",
    "def f(t, p):  # Função de decaimento\n",
    "    return k * p\n",
    "\n",
    "y0 = 1000\n",
    "solution = lambda t: y0 * np.e ** (k * t)  # Solução analítica.\n",
    "xn = 24180  # Quantidade total de anos\n",
    "solver(a=0, b=xn, n=100, y0=y0, f=f, F=solution)\n"
   ]
  },
  {
   "cell_type": "markdown",
   "metadata": {},
   "source": [
    "# Problemas Simples\n"
   ]
  },
  {
   "cell_type": "code",
   "execution_count": null,
   "metadata": {},
   "outputs": [],
   "source": [
    "y0 = 7000\n",
    "@njit\n",
    "def f(x, y):\n",
    "    return 0.9 * x**2 - 42 * x + 7\n",
    "\n",
    "solution = lambda x: 0.3 * x**3 - 21 * x**2 + 7 * x + y0\n",
    "solver(a=1, b=100, n=100, y0=y0, f=f, F=solution)\n"
   ]
  },
  {
   "cell_type": "code",
   "execution_count": null,
   "metadata": {},
   "outputs": [],
   "source": [
    "@njit\n",
    "def f(x, y):\n",
    "    return 1 / x\n",
    "\n",
    "\n",
    "solution = lambda x: np.log(x) + 1\n",
    "solver(a=1, b=200, n=400, y0=1, f=f, F=solution)\n"
   ]
  },
  {
   "cell_type": "code",
   "execution_count": null,
   "metadata": {},
   "outputs": [],
   "source": [
    "@njit\n",
    "def f(x, y):\n",
    "    return -1 / (x * x)\n",
    "\n",
    "\n",
    "y0 = 1\n",
    "solution = lambda x: 1 / x\n",
    "solver(a=1, b=100, n=1000, y0=y0, f=f, F=solution)\n"
   ]
  },
  {
   "cell_type": "markdown",
   "metadata": {},
   "source": [
    "# Problemas mais complexos\n"
   ]
  },
  {
   "cell_type": "markdown",
   "metadata": {},
   "source": [
    "Problema 1 - página 122 - Equações Diferenciais por Dennis Zill\n"
   ]
  },
  {
   "cell_type": "code",
   "execution_count": null,
   "metadata": {},
   "outputs": [],
   "source": [
    "k = 9.906e-4  # Coeficiente de decaimento\n",
    "@njit\n",
    "def f(t, x):\n",
    "    return k * x * (1000 - x)\n",
    "\n",
    "y0 = 1  # Quantidade inicial\n",
    "solution = lambda t: 1000 / (1 + 999 * np.e ** (-1000 * k * t))\n",
    "xn = 12  # Quantidade total de anos\n",
    "solver(a=0, b=xn, n=24, y0=y0, f=f, F=solution)\n"
   ]
  },
  {
   "cell_type": "markdown",
   "metadata": {},
   "source": [
    "Problema 2, página 106 do livro Equações Diferenciais por Dennis Zill.\n"
   ]
  },
  {
   "cell_type": "code",
   "execution_count": null,
   "metadata": {},
   "outputs": [],
   "source": [
    "k = -2.867e-5  # Coeficiente de decaimento\n",
    "@njit\n",
    "def f(t, p):\n",
    "    return k * p  # Função de decaimento\n",
    "\n",
    "y0 = 1000  # Quantidade inicial\n",
    "solution = lambda t: y0 * np.e ** (k * t)  # Solução analítica.\n",
    "xn = 24180  # Quantidade total de anos\n",
    "solver(a=0, b=xn, n=15, y0=y0, f=f, F=solution)\n"
   ]
  },
  {
   "cell_type": "markdown",
   "metadata": {},
   "source": [
    "A água atinge o estado sólido — isto é, gelo — quando sua temperatura é igual ou inferior a 0 °C em condições ideais. Supõe-se, em seguida, que uma pessoa\n",
    "gostaria de saber quanto tempo ela deveria aguardar para obter gelo após colocar dois recipientes de água em temperatura de 25 °C em seu congelador à -5 °C, com\n",
    "1 e 2 litros de água cada.\n",
    "\n",
    "Segundo a Lei do Resfriamento de Newton, a variação de perda de calor com o tempo de um corpo é proporcional à diferença de temperatura entre o ambiente e o\n",
    "corpo, multiplicada por um valor k. Ou seja, $\\frac{dT}{dt} = k(T-T_0)$.\n",
    "\n",
    "Considerando a temperatura da água uniformemente distribuída no recipiente a temperatura dos recipientes contendo 1 e 2 litros após dez minutos eram de 12 °C e\n",
    "15 °C, respectivamente, qual o tempo mínimo necessário para que a água em cada recipiente atingisse o estado sólido?\n"
   ]
  },
  {
   "cell_type": "code",
   "execution_count": null,
   "metadata": {},
   "outputs": [],
   "source": [
    "T0 = 25.0\n",
    "Te = -5.0\n",
    "i = 10\n",
    "Ti = [15.0, 18.0]\n",
    "for t_i in Ti:\n",
    "    k = (1 / i) * np.log((t_i - Te) / (T0 - Te))\n",
    "    \n",
    "    @njit\n",
    "    def f(t, T):\n",
    "        return k * (T - Te)\n",
    "    @njit\n",
    "    def solution(t):\n",
    "        return Te + (T0 - Te) * np.e ** (k * t)\n",
    "    xn = 90\n",
    "    solver(a=0, b=xn, n=180, y0=T0, f=f, F=solution)\n"
   ]
  },
  {
   "cell_type": "code",
   "execution_count": null,
   "metadata": {},
   "outputs": [],
   "source": [
    "y0 = 5.1765\n",
    "@njit\n",
    "def f(x, y):\n",
    "    return  -2.0 * (x - 0.3) / ((x - 0.3) ** 2 + 0.01) ** 2 - 2.0 * (x - 0.9) / ((x - 0.9) ** 2 + 0.04) ** 2\n",
    "# solution = lambda x: (1 / ((x - 0.3) **2 + 0.01)) + (1 / ((x-0.9)**2 + 0.04)) - y0\n",
    "solution = None\n",
    "solver(a=0, b=2, n=100, y0=y0, f=f, F=solution)\n"
   ]
  }
 ],
 "metadata": {
  "kernelspec": {
   "display_name": "Python 3.10.6 64-bit",
   "language": "python",
   "name": "python3"
  },
  "language_info": {
   "codemirror_mode": {
    "name": "ipython",
    "version": 3
   },
   "file_extension": ".py",
   "mimetype": "text/x-python",
   "name": "python",
   "nbconvert_exporter": "python",
   "pygments_lexer": "ipython3",
   "version": "3.10.6"
  },
  "orig_nbformat": 4,
  "vscode": {
   "interpreter": {
    "hash": "9f8688d2bc69c748babb560adc9158621fb8aef49546882c3e4c6326402dd0cc"
   }
  }
 },
 "nbformat": 4,
 "nbformat_minor": 2
}
